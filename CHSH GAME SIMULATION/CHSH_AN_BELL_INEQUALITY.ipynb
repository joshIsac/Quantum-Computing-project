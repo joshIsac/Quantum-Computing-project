{
 "cells": [
  {
   "cell_type": "markdown",
   "metadata": {},
   "source": [
    "## CHSH SIMULATION VIOLATING THE BELL INEQUALITY\n"
   ]
  },
  {
   "cell_type": "markdown",
   "metadata": {},
   "source": [
    "The CHSH game was proposed by Clauser, Horne, Shimony, and Holt demonstrates the violation of Bell's inequality, which fundamentally distinguishes quantum mechanics from classical physics."
   ]
  },
  {
   "cell_type": "markdown",
   "metadata": {},
   "source": [
    "WHAT is CHSH Game ?\n",
    "\n",
    "\n",
    "The CHSH game is a thought experiment that is often used to illustrate the concept of quantum entanglement\n",
    "The CHSH game is a game of strategy between two players, Alice and Bob. Alice and Bob\n",
    "are given a set of possible inputs x,y∈{0,1} ,\n",
    "where Alice produces an output \n",
    "𝑎∈{0,1} based on her input x and Bob produces an output b{0,1} \n",
    "without communicating with each other.\n",
    "\n",
    "Win Condition: Alice and Bob win if:\n",
    "𝑎⊕𝑏=𝑥∧𝑦\n",
    "where ⊕ is the XOR operation and ∧ is the AND operation.\n",
    "\n",
    "and they must produce a set of possible outputs. The goal\n",
    "of the game is to maximize the probability of winning, which is defined as follows"
   ]
  },
  {
   "cell_type": "markdown",
   "metadata": {},
   "source": [
    "The optimal classical strategy cannot achieve a win probability exceeding 75% over many rounds.\n",
    "This 75% limit is due to Bell's inequality, which constrains classical correlations."
   ]
  },
  {
   "cell_type": "markdown",
   "metadata": {},
   "source": [
    "$\n",
    "|\\Psi⟩ = \\frac{1}{\\sqrt{2}} (|00⟩ + |11⟩)\n",
    "$\n",
    "\n",
    "introducing the Quantum Correlation to acheive the win probability\n",
    "exceeding the probability of 75%  \n",
    "\n",
    "\n"
   ]
  },
  {
   "cell_type": "code",
   "execution_count": 16,
   "metadata": {},
   "outputs": [
    {
     "name": "stdout",
     "output_type": "stream",
     "text": [
      "Classical Winning Probability: 75.35%\n",
      "Quantum Winning Probability: 67.29%\n"
     ]
    }
   ],
   "source": [
    "import numpy as np \n",
    "#classical strategy \n",
    "def classical_CHSH():\n",
    "    win_count=0\n",
    "    trials=10000\n",
    "\n",
    "    for _ in range(trials):\n",
    "        # generate random bits\n",
    "        x,y=np.random.randint(0,2,2) \n",
    "        a,b=0,0\n",
    "        if (a^b)==(x*y):\n",
    "            win_count+=1\n",
    "    \n",
    "    win_prob=win_count/trials\n",
    "\n",
    "    return win_prob\n",
    "\n",
    "#quantum strategy\n",
    "def quantum_CHSH():\n",
    "    win_count = 0\n",
    "    trials = 10000\n",
    "    \n",
    "    for _ in range(trials):\n",
    "        # Random questions (x, y)\n",
    "        x, y = np.random.randint(0, 2, 2)\n",
    "        \n",
    "        # Measurement angles\n",
    "        theta_a = [0, np.pi / 4]\n",
    "        theta_b = [np.pi / 8, -np.pi / 8]\n",
    "        \n",
    "        # Angles based on questions\n",
    "        angle_a = theta_a[x]\n",
    "        angle_b = theta_b[y]\n",
    "        \n",
    "        # Quantum winning probability\n",
    "        prob_win = 0.5 * (1 + np.cos(2 * (angle_a - angle_b)))\n",
    "        if np.random.rand() < prob_win:\n",
    "            win_count += 1\n",
    "\n",
    "    win_prob = win_count / trials\n",
    "    return win_prob\n",
    "\n",
    "\n",
    "# Results\n",
    "print(f\"Classical Winning Probability: {classical_CHSH() * 100:.2f}%\")\n",
    "print(f\"Quantum Winning Probability: {quantum_CHSH() * 100:.2f}%\")\n",
    "\n"
   ]
  },
  {
   "cell_type": "code",
   "execution_count": null,
   "metadata": {},
   "outputs": [],
   "source": []
  }
 ],
 "metadata": {
  "kernelspec": {
   "display_name": "Python 3",
   "language": "python",
   "name": "python3"
  },
  "language_info": {
   "codemirror_mode": {
    "name": "ipython",
    "version": 3
   },
   "file_extension": ".py",
   "mimetype": "text/x-python",
   "name": "python",
   "nbconvert_exporter": "python",
   "pygments_lexer": "ipython3",
   "version": "3.11.8"
  }
 },
 "nbformat": 4,
 "nbformat_minor": 2
}
