{
 "cells": [
  {
   "cell_type": "markdown",
   "metadata": {},
   "source": [
    "## CHSH SIMULATION VIOLATING THE BELL INEQUALITY\n"
   ]
  },
  {
   "cell_type": "markdown",
   "metadata": {},
   "source": [
    "The CHSH game was proposed by Clauser, Horne, Shimony, and Holt demonstrates the violation of Bell's inequality, which fundamentally distinguishes quantum mechanics from classical physics."
   ]
  },
  {
   "cell_type": "markdown",
   "metadata": {},
   "source": [
    "WHAT is CHSH Game ?\n",
    "\n",
    "\n",
    "The CHSH game is a thought experiment that is often used to illustrate the concept of quantum entanglement\n",
    "The CHSH game is a game of strategy between two players, Alice and Bob. Alice and Bob\n",
    "are given a set of possible inputs x,y∈{0,1} ,\n",
    "where Alice produces an output \n",
    "𝑎∈{0,1} based on her input x and Bob produces an output b{0,1} \n",
    "without communicating with each other.\n",
    "\n",
    "Win Condition: Alice and Bob win if:\n",
    "𝑎⊕𝑏=𝑥∧𝑦\n",
    "where ⊕ is the XOR operation and ∧ is the AND operation.\n",
    "\n",
    "and they must produce a set of possible outputs. The goal\n",
    "of the game is to maximize the probability of winning, which is defined as follows"
   ]
  },
  {
   "cell_type": "markdown",
   "metadata": {},
   "source": [
    "The optimal classical strategy cannot achieve a win probability exceeding 75% over many rounds.\n",
    "This 75% limit is due to Bell's inequality, which constrains classical correlations."
   ]
  },
  {
   "cell_type": "markdown",
   "metadata": {},
   "source": [
    "$\n",
    "|\\Psi⟩ = \\frac{1}{\\sqrt{2}} (|00⟩ + |11⟩)\n",
    "$\n",
    "\n",
    "introducing the Quantum Correlation to acheive the win probability\n",
    "exceeding the probability of 75%  \n",
    "\n",
    "\n"
   ]
  },
  {
   "cell_type": "code",
   "execution_count": 119,
   "metadata": {},
   "outputs": [
    {
     "name": "stdout",
     "output_type": "stream",
     "text": [
      "Classical Winning Probability: 74.85%\n",
      "Quantum Winning Probability (Corrected Angles): 85.39%\n"
     ]
    }
   ],
   "source": [
    "import numpy as np \n",
    "#classical strategy \n",
    "def classical_CHSH():\n",
    "    win_count=0\n",
    "    trials=10000\n",
    "\n",
    "    for _ in range(trials):\n",
    "        # generate random bits\n",
    "        x,y=np.random.randint(0,2,2) \n",
    "        a,b=0,0\n",
    "        if (a^b)==(x*y):\n",
    "            win_count+=1\n",
    "    \n",
    "    win_prob=win_count/trials\n",
    "\n",
    "    return win_prob\n",
    "\n",
    "# Quantum CHSH Strategy\n",
    "def quantum_CHSH():\n",
    "    win_count = 0\n",
    "    trials = 100000  # Increase trials for better accuracy\n",
    "    \n",
    "    # Define measurement angles\n",
    "    theta_a = [0, np.pi / 4]  # Alice's angles\n",
    "    theta_b = [np.pi / 8, -np.pi / 8]  # Bob's angles (CORRECTED)\n",
    "    \n",
    "    for _ in range(trials):\n",
    "        # Generate random questions (x, y)\n",
    "        x, y = np.random.randint(0, 2, 2)\n",
    "        \n",
    "        # Select measurement angles based on questions\n",
    "        angle_a = theta_a[x]\n",
    "        angle_b = theta_b[y]\n",
    "        \n",
    "        # Compute quantum correlation probability for outcome a XOR b = x AND y\n",
    "        winning_condition = x * y  # x AND y\n",
    "        prob_win = 0.5 * (1 + (-1)**winning_condition * np.cos(2 * (angle_a - angle_b)))\n",
    "        \n",
    "        # Clamp probability to valid range [0, 1]\n",
    "        prob_win = np.clip(prob_win, 0, 1)\n",
    "        \n",
    "        # Simulate the quantum outcome\n",
    "        if np.random.rand() < prob_win:\n",
    "            win_count += 1\n",
    "\n",
    "    # Calculate winning probability\n",
    "    win_prob = win_count / trials\n",
    "    return win_prob\n",
    "\n",
    "# Results\n",
    "print(f\"Classical Winning Probability: {classical_CHSH() * 100:.2f}%\")\n",
    "print(f\"Quantum Winning Probability (Corrected Angles): {quantum_CHSH() * 100:.2f}%\")\n"
   ]
  },
  {
   "cell_type": "code",
   "execution_count": 120,
   "metadata": {},
   "outputs": [],
   "source": [
    "from qiskit import QuantumCircuit\n",
    "from qiskit_aer import AerSimulator\n",
    "from qiskit.visualization import plot_histogram\n",
    "import matplotlib.pyplot as plt\n",
    "\n"
   ]
  },
  {
   "cell_type": "code",
   "execution_count": 159,
   "metadata": {},
   "outputs": [
    {
     "name": "stdout",
     "output_type": "stream",
     "text": [
      "Quantum Circuit for the CHSH Game (First Round):\n",
      "     ┌───┐      ┌───────┐ ┌─┐   \n",
      "q_0: ┤ H ├──■───┤ Ry(0) ├─┤M├───\n",
      "     └───┘┌─┴─┐┌┴───────┴┐└╥┘┌─┐\n",
      "q_1: ─────┤ X ├┤ Ry(π/4) ├─╫─┤M├\n",
      "          └───┘└─────────┘ ║ └╥┘\n",
      "c: 2/══════════════════════╩══╩═\n",
      "                           0  1 \n",
      "Histogram of Measurement Results:\n",
      "Quantum Winning Probability: 85.00%\n"
     ]
    }
   ],
   "source": [
    "import numpy as np\n",
    "from qiskit import QuantumCircuit\n",
    "from qiskit_aer import AerSimulator\n",
    "from qiskit.visualization import plot_histogram\n",
    "import matplotlib.pyplot as plt\n",
    "\n",
    "# Function to create the Bell state\n",
    "def create_bell_state():\n",
    "    qc = QuantumCircuit(2, 2)  # 2 qubits and 2 classical bits\n",
    "    qc.h(0)  # Hadamard gate on Alice's qubit\n",
    "    qc.cx(0, 1)  # CNOT gate to entangle Alice and Bob\n",
    "    return qc\n",
    "\n",
    "# Function to apply measurement settings based on the angle\n",
    "def apply_measurement(qc, x, y):\n",
    "    # Define the measurement angles based on the strategy\n",
    "    # Alice's angles (separated by pi/4)\n",
    "    theta_A0 = 0\n",
    "    theta_A1 = np.pi / 4\n",
    "\n",
    "    # Bob's angles (separated by pi/8 and -pi/8)\n",
    "    theta_B0 = np.pi / 8\n",
    "    theta_B1 = -np.pi / 8\n",
    "\n",
    "    # Apply the rotations based on the inputs\n",
    "    if x == 0 and y == 0:\n",
    "        qc.ry(-2 * theta_A0, 0)  # Rotation for Alice\n",
    "        qc.ry(-2 * theta_B0, 1)  # Rotation for Bob\n",
    "    elif x == 0 and y == 1:\n",
    "        qc.ry(-2 * theta_A0, 0)  # Rotation for Alice\n",
    "        qc.ry(-2 * theta_B1, 1)  # Rotation for Bob\n",
    "    elif x == 1 and y == 0:\n",
    "        qc.ry(-2 * theta_A1, 0)  # Rotation for Alice\n",
    "        qc.ry(-2 * theta_B0, 1)  # Rotation for Bob\n",
    "    elif x == 1 and y == 1:\n",
    "        qc.ry(-2 * theta_A1, 0)  # Rotation for Alice\n",
    "        qc.ry(-2 * theta_B1, 1)  # Rotation for Bob\n",
    "\n",
    "    # Measure the qubits\n",
    "    qc.measure([0, 1], [0, 1])\n",
    "\n",
    "# Simulate the CHSH game\n",
    "def CHSH_game(rounds=1000):\n",
    "    simulator = AerSimulator()\n",
    "    wins = 0\n",
    "    all_counts = []\n",
    "\n",
    "    for _ in range(rounds):\n",
    "        # Random inputs x, y\n",
    "        x = np.random.randint(0, 2)\n",
    "        y = np.random.randint(0, 2)\n",
    "\n",
    "        # Create Bell state\n",
    "        qc = create_bell_state()\n",
    "\n",
    "        # Apply measurement settings\n",
    "        apply_measurement(qc, x, y)\n",
    "\n",
    "        # Visualize the circuit for the first round\n",
    "        if _ == 0:\n",
    "            print(\"Quantum Circuit for the CHSH Game (First Round):\")\n",
    "            print(qc)\n",
    "            qc.draw(output='mpl')\n",
    "            plt.show()\n",
    "\n",
    "\n",
    "        # Execute the circuit\n",
    "        result = simulator.run(qc, shots=1).result()\n",
    "        counts = result.get_counts()\n",
    "        all_counts.append(counts)\n",
    "\n",
    "        # Get measurement outcome\n",
    "        outcome = list(counts.keys())[0]  # Extract the measurement result\n",
    "        a = int(outcome[1])  # Alice's result\n",
    "        b = int(outcome[0])  # Bob's result\n",
    "\n",
    "        # Check win condition: a ⊕ b == x ∧ y\n",
    "        if (a ^ b) == (x & y):\n",
    "            wins += 1\n",
    "\n",
    "    # Aggregate counts for visualization\n",
    "    aggregated_counts = {}\n",
    "    for counts in all_counts:\n",
    "        for key, value in counts.items():\n",
    "            if key in aggregated_counts:\n",
    "                aggregated_counts[key] += value\n",
    "            else:\n",
    "                aggregated_counts[key] = value\n",
    "\n",
    "    # Plot histogram of results\n",
    "    if aggregated_counts:  # Ensure there is data to plot\n",
    "        print(\"Histogram of Measurement Results:\")\n",
    "        plot_histogram(aggregated_counts)\n",
    "        plt.show()\n",
    "    else:\n",
    "        print(\"No measurement results to display.\")\n",
    "\n",
    "    # Calculate winning probability\n",
    "    return wins / rounds\n",
    "\n",
    "# Run the simulation\n",
    "quantum_win_prob = CHSH_game(rounds=1000)\n",
    "print(f\"Quantum Winning Probability: {quantum_win_prob * 100:.2f}%\")\n"
   ]
  },
  {
   "cell_type": "code",
   "execution_count": null,
   "metadata": {},
   "outputs": [],
   "source": []
  },
  {
   "cell_type": "code",
   "execution_count": null,
   "metadata": {},
   "outputs": [],
   "source": []
  }
 ],
 "metadata": {
  "kernelspec": {
   "display_name": "Python 3",
   "language": "python",
   "name": "python3"
  },
  "language_info": {
   "codemirror_mode": {
    "name": "ipython",
    "version": 3
   },
   "file_extension": ".py",
   "mimetype": "text/x-python",
   "name": "python",
   "nbconvert_exporter": "python",
   "pygments_lexer": "ipython3",
   "version": "3.11.8"
  }
 },
 "nbformat": 4,
 "nbformat_minor": 2
}
